{
 "cells": [
  {
   "cell_type": "markdown",
   "id": "859157f3-e2f9-4e1e-8d09-2565c51344e0",
   "metadata": {},
   "source": [
    "### وارد کردن کتابخانه‌ها\n",
    "\n",
    "در این سلول، کتابخانه‌های مورد نیاز شامل `OpenCV` و `NumPy` وارد می‌شوند. `OpenCV` برای پردازش تصویر و `NumPy` برای کار با آرایه‌ها و انجام محاسبات عددی استفاده می‌شود."
   ]
  },
  {
   "cell_type": "code",
   "execution_count": 58,
   "id": "beaf9699-973c-4700-8307-2ceb54ca2d85",
   "metadata": {},
   "outputs": [],
   "source": [
    "import cv2 as cv\n",
    "import numpy as np"
   ]
  },
  {
   "cell_type": "markdown",
   "id": "affd3e73-9644-4e0e-affa-19c6bdb6600d",
   "metadata": {},
   "source": [
    "### خواندن تصویر و ایجاد کپی‌ها\n",
    "\n",
    "این سلول تصویر اصلی را از مسیر مشخص شده می‌خواند و چند کپی از آن ایجاد می‌کند. هر کپی از تصویر برای رسم یک شکل مختلف (خط، مستطیل، دایره، چندضلعی) یا افزودن متن مورد استفاده قرار می‌گیرد.\n"
   ]
  },
  {
   "cell_type": "code",
   "execution_count": 87,
   "id": "c6111320-a314-481e-be12-ad7cef4ce5d6",
   "metadata": {},
   "outputs": [],
   "source": [
    "img = cv.imread('../src/peopel.png', cv.IMREAD_COLOR)\n",
    "img_line = cv.imread('../src/peopel.png', cv.IMREAD_COLOR)\n",
    "img_rectangle = cv.imread('../src/peopel.png', cv.IMREAD_COLOR)\n",
    "img_circle = cv.imread('../src/peopel.png', cv.IMREAD_COLOR)\n",
    "img_polylines = cv.imread('../src/peopel.png', cv.IMREAD_COLOR)\n",
    "img_text = cv.imread('../src/peopel.png', cv.IMREAD_COLOR)"
   ]
  },
  {
   "cell_type": "markdown",
   "id": "267b9264-ee17-45af-ae35-c057d6030059",
   "metadata": {},
   "source": [
    "### رسم خط\n",
    "\n",
    "در این سلول با استفاده از تابع `cv.line` یک خط بر روی تصویر رسم می‌شود. مختصات نقطه شروع `(100, 100)` و مختصات نقطه پایان `(300, 100)` هستند. رنگ خط (با مقدار `(200, 200, 0)`) مشخص و ضخامت آن ۵ پیکسل است.\n"
   ]
  },
  {
   "cell_type": "code",
   "execution_count": 106,
   "id": "b948a30d-7478-4dca-93f9-9ee02ce179b7",
   "metadata": {
    "scrolled": true
   },
   "outputs": [],
   "source": [
    "_ = cv.line(img_line, (100, 100), (300, 100), (200, 200, 0), 5) # (image, point 1, point 2, color, thickness)"
   ]
  },
  {
   "cell_type": "markdown",
   "id": "68334fd3-2153-4620-9df1-70d81e0d90c4",
   "metadata": {},
   "source": [
    "### رسم مستطیل\n",
    "\n",
    "در این سلول یک مستطیل بر روی تصویر با استفاده از تابع `cv.rectangle` رسم می‌شود. گوشه بالا-چپ مستطیل در `(100, 100)` و گوشه پایین-راست در `(300, 300)` قرار دارد. رنگ مستطیل با مقدار `(255, 255, 255)` مشخص و ضخامت خط ۸ پیکسل است."
   ]
  },
  {
   "cell_type": "code",
   "execution_count": 101,
   "id": "1f69af77-a174-4257-988f-fb178eb3d24d",
   "metadata": {},
   "outputs": [],
   "source": [
    "_ = cv.rectangle(img_rectangle, (100, 100), (300, 300), (255, 255, 255), 8) # (image, point 1, point 2, color, thickness)"
   ]
  },
  {
   "cell_type": "markdown",
   "id": "874e1cfb-d3af-43fe-9b85-06babeb484b2",
   "metadata": {},
   "source": [
    "### رسم دایره\n",
    "\n",
    "در این سلول با استفاده از تابع `cv.circle` یک دایره بر روی تصویر رسم می‌شود. مرکز دایره در مختصات `(250, 250)` و شعاع آن ۵۰ پیکسل است. رنگ دایره با مقدار `(0, 255, 255)` مشخص و ضخامت آن ۸ پیکسل است."
   ]
  },
  {
   "cell_type": "code",
   "execution_count": 107,
   "id": "008e1a08-5634-43ef-a2f1-af38b0875d28",
   "metadata": {},
   "outputs": [],
   "source": [
    "_ = cv.circle(img_circle, (250, 250), 50, (0,255,255), 8) # (image, center, radius, color, thickness)"
   ]
  },
  {
   "cell_type": "markdown",
   "id": "f56a75ec-5006-40cc-adba-74892eb53ef0",
   "metadata": {},
   "source": [
    "### رسم چندضلعی\n",
    "\n",
    "در این سلول با استفاده از تابع `cv.polylines` یک چندضلعی بر روی تصویر رسم می‌شود. نقاط چندضلعی به صورت آرایه‌ای از مختصات تعریف شده‌اند: `[[100, 100], [200, 20], [300, 100], [200, 200]]`. رنگ چندضلعی با مقدار `(255, 255, 0)` مشخص و ضخامت خطوط آن ۵ پیکسل است.\n"
   ]
  },
  {
   "cell_type": "code",
   "execution_count": 112,
   "id": "9a56a04f-11cf-4ad0-b22c-0089739d1c8b",
   "metadata": {},
   "outputs": [],
   "source": [
    "points = np.array([[100, 100], [200,20], [300,100], [200,200]], np.int32)\n",
    "_ = cv.polylines(img_polylines, [points], True, (255,255,0), 5) # (image, points, isClosed, color, thickness)"
   ]
  },
  {
   "cell_type": "markdown",
   "id": "b8e3513b-882e-488d-a69a-c0d3dbec6c6e",
   "metadata": {},
   "source": [
    "### نوشتن متن\n",
    "\n",
    "در این سلول با استفاده از تابع `cv.putText` متنی روی تصویر نوشته می‌شود. متن `\"Hi\"` در موقعیت `(250, 250)` نمایش داده می‌شود. فونت مورد استفاده `FONT_HERSHEY_COMPLEX` با اندازه ۱ و رنگ آن با مقدار `(255, 255, 0)` مشخص و ضخامت ۲ پیکسل است.\n"
   ]
  },
  {
   "cell_type": "code",
   "execution_count": 113,
   "id": "a8df46ee-8b7f-4ce7-8f1a-6d83e2d6166f",
   "metadata": {},
   "outputs": [],
   "source": [
    "font = cv.FONT_HERSHEY_COMPLEX\n",
    "_ = cv.putText(img_text, \"Hi\", (250,250), font, 1, (255,255,0), 2) # (image, Text, position, fontFamily, fontScale, color, thickness)"
   ]
  },
  {
   "cell_type": "markdown",
   "id": "73df6bca-155d-431c-89a9-c0eaf7cce39d",
   "metadata": {},
   "source": [
    "### نمایش و مدیریت پنجره‌ها\n",
    "\n",
    "در این سلول تصاویر اصلی و ویرایش‌شده در پنجره‌های جداگانه نمایش داده می‌شوند. در نهایت، پس از فشردن هر کلید، تمامی پنجره‌ها بسته می‌شوند.\n"
   ]
  },
  {
   "cell_type": "code",
   "execution_count": 111,
   "id": "26a3c5f5-6202-4409-ab20-360f36cab852",
   "metadata": {},
   "outputs": [],
   "source": [
    "cv.imshow('IMAGE', img)\n",
    "cv.imshow('IMAGE Line', img_line)\n",
    "cv.imshow('IMAGE Rectangle', img_rectangle)\n",
    "cv.imshow('IMAGE Circle', img_circle)\n",
    "cv.imshow('IMAGE Poly', img_polylines)\n",
    "cv.imshow('IMAGE Text', img_text)\n",
    "cv.waitKey(0)\n",
    "cv.destroyAllWindows()"
   ]
  }
 ],
 "metadata": {
  "kernelspec": {
   "display_name": "Python (.venv)",
   "language": "python",
   "name": ".venv"
  },
  "language_info": {
   "codemirror_mode": {
    "name": "ipython",
    "version": 3
   },
   "file_extension": ".py",
   "mimetype": "text/x-python",
   "name": "python",
   "nbconvert_exporter": "python",
   "pygments_lexer": "ipython3",
   "version": "3.12.6"
  }
 },
 "nbformat": 4,
 "nbformat_minor": 5
}
