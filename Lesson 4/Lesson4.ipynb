{
 "cells": [
  {
   "cell_type": "markdown",
   "id": "b629d78f-fa0a-4c13-a65c-295286f91395",
   "metadata": {},
   "source": [
    "# کتابخانه‌ها\n",
    "کتابخانه OpenCV برای پردازش تصویر"
   ]
  },
  {
   "cell_type": "code",
   "execution_count": 1,
   "id": "38ea77e2-8439-4b08-8d47-2c27e5c6bfa5",
   "metadata": {},
   "outputs": [],
   "source": [
    "import cv2 as cv"
   ]
  },
  {
   "cell_type": "markdown",
   "id": "2ba30482-90ca-41e8-947a-a0175dae9c68",
   "metadata": {},
   "source": [
    "# خواندن تصاویر ورودی\n",
    "خواندن دو تصویر circle و lightning از پوشه src\n"
   ]
  },
  {
   "cell_type": "code",
   "execution_count": 2,
   "id": "27502540-af78-447d-b6c5-30cbd848b796",
   "metadata": {},
   "outputs": [],
   "source": [
    "# Load input images\n",
    "circle_image = cv.imread('../src/circle.jpg')\n",
    "lightning_image = cv.imread('../src/lightning.jpg')"
   ]
  },
  {
   "cell_type": "markdown",
   "id": "e614c5a5-0b17-47f0-889e-13e2de6699ad",
   "metadata": {},
   "source": [
    "# ترکیب ساده تصاویر با عملگر جمع\n",
    "جمع پیکسل به پیکسل دو تصویر - این روش ممکن است باعث سرریز شود"
   ]
  },
  {
   "cell_type": "code",
   "execution_count": 3,
   "id": "315bba38-324f-4eb3-bcbb-d063b8a51c00",
   "metadata": {},
   "outputs": [],
   "source": [
    "# Basic pixel-wise addition (may cause overflow)\n",
    "basic_addition = circle_image + lightning_image"
   ]
  },
  {
   "cell_type": "markdown",
   "id": "66abe9af-e986-41d2-bf95-01d2236502e9",
   "metadata": {},
   "source": [
    "# ترکیب تصاویر با تابع add از OpenCV \n",
    "استفاده از تابع add برای جمع کنترل شده تصاویر با روش اشباع"
   ]
  },
  {
   "cell_type": "code",
   "execution_count": 4,
   "id": "8a4de6f5-d62a-4f2a-b59f-d71894a2d822",
   "metadata": {},
   "outputs": [],
   "source": [
    "# OpenCV's saturated addition\n",
    "opencv_addition = cv.add(circle_image, lightning_image)"
   ]
  },
  {
   "cell_type": "markdown",
   "id": "2ee66b4e-bb03-43bc-b0b7-1b4c42de5300",
   "metadata": {},
   "source": [
    "# ترکیب وزن‌دار تصاویر\n",
    "ترکیب تصاویر با نسبت ۸۰٪ از تصویر اول و ۲۰٪ از تصویر دوم"
   ]
  },
  {
   "cell_type": "code",
   "execution_count": 5,
   "id": "0ee16a10-51ca-4000-a571-97ccb5231625",
   "metadata": {},
   "outputs": [],
   "source": [
    "# Blend images with weights (80% first image, 20% second image)\n",
    "weighted_blend = cv.addWeighted(circle_image, 0.8, lightning_image, 0.2, 0)  # gamma=0"
   ]
  },
  {
   "cell_type": "markdown",
   "id": "66fe358f-72d9-4de7-a767-b5255d379852",
   "metadata": {},
   "source": [
    "# ترکیب تصاویر با استفاده از ماسک\n",
    "- تبدیل تصویر دوم به سیاه و سفید\n",
    "- ساخت ماسک باینری و معکوس آن\n",
    "- اعمال ماسک‌ها روی تصاویر\n",
    "- ترکیب نهایی تصاویر ماسک شده"
   ]
  },
  {
   "cell_type": "code",
   "execution_count": 6,
   "id": "9036a9da-3e76-47c3-967e-768057d84b9f",
   "metadata": {},
   "outputs": [],
   "source": [
    "gray_lightning = cv.cvtColor(lightning_image, cv.COLOR_BGR2GRAY) # Convert lightning image to grayscale for masking\n",
    "_, binary_mask = cv.threshold(gray_lightning, 60, 250, cv.THRESH_BINARY) # Create binary mask (threshold=60, max_value=250)\n",
    "inverted_mask = cv.bitwise_not(binary_mask) # Create inverted mask for background\n",
    "masked_circle = cv.bitwise_and(circle_image, circle_image, mask=inverted_mask)    # Apply masks to images (Background)\n",
    "masked_lightning = cv.bitwise_and(lightning_image, lightning_image, mask=binary_mask)  # Apply masks to images (Foreground)\n",
    "final_composite = cv.add(masked_circle, masked_lightning) # Combine masked images"
   ]
  },
  {
   "cell_type": "markdown",
   "id": "2f875a66-29a3-4195-93bb-fb1f8b10f445",
   "metadata": {},
   "source": [
    "# نمایش نتایج\n",
    "نمایش تصاویر اصلی و نتایج هر مرحله از ترکیب"
   ]
  },
  {
   "cell_type": "code",
   "execution_count": 7,
   "id": "00f76a4c-ad34-42c4-afce-4102a04b9472",
   "metadata": {},
   "outputs": [],
   "source": [
    "# Display results\n",
    "cv.imshow('Original Circle', circle_image)\n",
    "cv.imshow('Original Lightning', lightning_image)\n",
    "cv.imshow('Basic Addition', basic_addition)\n",
    "cv.imshow('OpenCV Addition', opencv_addition)\n",
    "cv.imshow('Weighted Blend', weighted_blend)\n",
    "cv.imshow('Final Composite', final_composite)\n",
    "cv.waitKey(0) # Wait for any key press\n",
    "cv.destroyAllWindows()  # Clean up"
   ]
  }
 ],
 "metadata": {
  "kernelspec": {
   "display_name": "Python (.venv)",
   "language": "python",
   "name": ".venv"
  },
  "language_info": {
   "codemirror_mode": {
    "name": "ipython",
    "version": 3
   },
   "file_extension": ".py",
   "mimetype": "text/x-python",
   "name": "python",
   "nbconvert_exporter": "python",
   "pygments_lexer": "ipython3",
   "version": "3.12.6"
  }
 },
 "nbformat": 4,
 "nbformat_minor": 5
}
