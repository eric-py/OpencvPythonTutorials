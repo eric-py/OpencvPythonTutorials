{
 "cells": [
  {
   "cell_type": "markdown",
   "id": "c4e04336-0f74-4cd1-808a-13298724c82b",
   "metadata": {},
   "source": [
    "### کتابخانه‌ها\n",
    "\n",
    "ابتدا کتابخانه‌های مورد نیاز برای پردازش تصویر بارگذاری می‌شوند."
   ]
  },
  {
   "cell_type": "code",
   "execution_count": 123,
   "id": "cb30f0b3-7689-447f-98b4-530be9132dd9",
   "metadata": {},
   "outputs": [],
   "source": [
    "import cv2 as cv"
   ]
  },
  {
   "cell_type": "markdown",
   "id": "b9806024-1d87-406b-8081-cdaa841463da",
   "metadata": {},
   "source": [
    "###  بارگذاری تصویر اصلی\n",
    "\n",
    "تصویر رنگی اصلی را از مسیر مشخص شده بارگذاری می‌کنیم. گزینه `cv.IMREAD_COLOR` تصویر را به صورت رنگی (BGR) بارگذاری می‌کند."
   ]
  },
  {
   "cell_type": "code",
   "execution_count": 124,
   "id": "451ba19b-f961-48aa-af8b-4509ac5afe1a",
   "metadata": {},
   "outputs": [],
   "source": [
    "img = cv.imread('../src/color.jpg', cv.IMREAD_COLOR) # Orginal image"
   ]
  },
  {
   "cell_type": "markdown",
   "id": "8d57f396-e808-47d5-81ef-27c76a5cb4c0",
   "metadata": {},
   "source": [
    "### تبدیل تصویر به خاکستری\n",
    "\n",
    "در این مرحله، تصویر اصلی را به حالت خاکستری (سیاه و سفید) تبدیل می‌کنیم. این تبدیل با استفاده از `cv.cvtColor` انجام می‌شود."
   ]
  },
  {
   "cell_type": "code",
   "execution_count": 125,
   "id": "f952c7ec-36cf-4686-a9ba-7587d8ae5359",
   "metadata": {},
   "outputs": [],
   "source": [
    "img_gray = cv.cvtColor(img, cv.COLOR_BGR2GRAY) # Convert orginal imgae to gray"
   ]
  },
  {
   "cell_type": "markdown",
   "id": "0f617ad0-4670-48c1-87b6-ae7b9cc8df33",
   "metadata": {},
   "source": [
    "### ایجاد تغییرات در ناحیه‌ای از تصویر\n",
    "\n",
    "در اینجا یک کپی از تصویر اصلی ایجاد کرده و با استفاده از مختصات مشخص‌شده، یک ناحیه از تصویر را به رنگ سیاه تغییر می‌دهیم."
   ]
  },
  {
   "cell_type": "code",
   "execution_count": 126,
   "id": "938ac6bc-f0d2-4cfd-93e1-78d1eac09d57",
   "metadata": {},
   "outputs": [],
   "source": [
    "img_change_color = cv.imread('../src/color.jpg', cv.IMREAD_COLOR)\n",
    "img_change_color[50:250, 250:500] = [0,0,0] # Blackout the selected region"
   ]
  },
  {
   "cell_type": "markdown",
   "id": "3cbd32fa-7e8c-4548-a63c-0b039dbf9a99",
   "metadata": {},
   "source": [
    "### برش ناحیه‌ای از تصویر خاکستری\n",
    "\n",
    "یک ناحیه‌ی انتخاب شده از تصویر خاکستری را جدا می‌کنیم. این ناحیه شامل مختصات پیکسل‌های ۵۰ تا ۲۵۰ در محور y و ۲۵۰ تا ۵۰۰ در محور x است."
   ]
  },
  {
   "cell_type": "code",
   "execution_count": 127,
   "id": "7292374e-d9d3-4185-aab1-d71a53d75964",
   "metadata": {},
   "outputs": [],
   "source": [
    "img_cut = img_gray [50:250, 250:500] # Create a cropped version of grayscale image"
   ]
  },
  {
   "cell_type": "markdown",
   "id": "62b2ad59-634d-4aed-bc24-e69dd913bfb4",
   "metadata": {},
   "source": [
    "### کپی و چسباندن ناحیه‌ای از تصویر\n",
    "\n",
    "در این قسمت، یک ناحیه از تصویر را از یک بخش کپی کرده و در ناحیه‌ی دیگری از تصویر قرار می‌دهیم. این تکنیک برای انتقال نواحی از یک بخش تصویر به بخش دیگر استفاده می‌شود.\n"
   ]
  },
  {
   "cell_type": "code",
   "execution_count": 128,
   "id": "197aac8f-079e-46db-bb23-27b4ff3b6ad6",
   "metadata": {},
   "outputs": [],
   "source": [
    "img[50:250, 250:500] = img[200:400, 450:700] # Copy a region from one area of the image to another area"
   ]
  },
  {
   "cell_type": "markdown",
   "id": "d047d7ac-5c38-4773-be5b-56a914686f9a",
   "metadata": {},
   "source": [
    "### استخراج کانال‌های رنگی آبی، سبز و قرمز\n",
    "\n",
    "کانال‌های رنگی آبی، سبز و قرمز از تصویر استخراج می‌شوند. هر کانال نشان‌دهنده یکی از سه رنگ اصلی است. همچنین با دستور `cv.split(img)` نیز می‌توان کانال‌ها را جدا کرد."
   ]
  },
  {
   "cell_type": "code",
   "execution_count": 129,
   "id": "b5b0d995-a4e9-4bde-860f-b517715966c9",
   "metadata": {},
   "outputs": [],
   "source": [
    "# BGR\n",
    "b = img[:,:,0] # Get blue\n",
    "g = img[:,:,1] # Get green\n",
    "r = img[:,:,2] # Get red\n",
    "\n",
    "# or >> b,g,r = cv.split(img)"
   ]
  },
  {
   "cell_type": "markdown",
   "id": "3d6fb7a4-e728-4e59-8cdc-60c4bc0441ef",
   "metadata": {},
   "source": [
    "### ادغام کانال‌های رنگی به تصویر BGR\n",
    "\n",
    "در این مرحله، کانال‌های رنگی جدا شده را دوباره با هم ترکیب کرده و یک تصویر رنگی BGR جدید ایجاد می‌کنیم."
   ]
  },
  {
   "cell_type": "code",
   "execution_count": 130,
   "id": "33952baa-3f65-4bcb-a093-e6553c3340b1",
   "metadata": {},
   "outputs": [],
   "source": [
    "img_merg = cv.merge((b,g,r)) # Merge color channels into BGR image"
   ]
  },
  {
   "cell_type": "markdown",
   "id": "ac2ed52d-c4a7-4fae-b792-1b9027888bc2",
   "metadata": {},
   "source": [
    "### نمایش تصاویر مختلف\n",
    "\n",
    "با استفاده از `cv.imshow`، تصاویر مختلف (تصویر اصلی، خاکستری، برش‌خورده، تغییر رنگ یافته، کانال‌های رنگی آبی، سبز و قرمز و تصویر نهایی ادغام‌شده) نمایش داده می‌شوند. `cv.waitKey(0)` پنجره‌ها را باز نگه می‌دارد تا زمانی که یک کلید فشرده شود و `cv.destroyAllWindows()` تمام پنجره‌ها را می‌بندد."
   ]
  },
  {
   "cell_type": "code",
   "execution_count": 131,
   "id": "271a774a-3793-476d-aeec-aa0ee6e99ac8",
   "metadata": {},
   "outputs": [],
   "source": [
    "cv.imshow('IMAGE', img)\n",
    "cv.imshow('IMAGE GRAY', img_gray)\n",
    "cv.imshow('IMAGE CUT', img_cut)\n",
    "cv.imshow('IMAGE CHANGE COLOR', img_change_color)\n",
    "cv.imshow('BLUE', b)\n",
    "cv.imshow('GREEN', g)\n",
    "cv.imshow('RED', r)\n",
    "cv.imshow('MERGE COLOR', img_merg)\n",
    "cv.waitKey(0)\n",
    "cv.destroyAllWindows()"
   ]
  },
  {
   "cell_type": "markdown",
   "id": "2e577cde-ad25-4efb-813d-b3810a2148a5",
   "metadata": {},
   "source": [
    "### ابعاد تصویر\n",
    "\n",
    "این دستور ابعاد تصویر (ارتفاع، عرض و تعداد کانال‌ها) را نمایش می‌دهد."
   ]
  },
  {
   "cell_type": "code",
   "execution_count": 132,
   "id": "af4dd39c-c87c-421e-84f9-fd849b14b6ad",
   "metadata": {},
   "outputs": [
    {
     "data": {
      "text/plain": [
       "(414, 736, 3)"
      ]
     },
     "execution_count": 132,
     "metadata": {},
     "output_type": "execute_result"
    }
   ],
   "source": [
    "img.shape # Get image dimension"
   ]
  },
  {
   "cell_type": "markdown",
   "id": "1b2cb581-8693-47f5-b51e-3150bfb6f03f",
   "metadata": {},
   "source": [
    "### محاسبه تعداد کل عناصر تصویر\n",
    "\n",
    "تعداد کل عناصر (پیکسل‌ها ضرب‌در تعداد کانال‌ها) در تصویر محاسبه می‌شود."
   ]
  },
  {
   "cell_type": "code",
   "execution_count": 133,
   "id": "36b89b76-f3a3-402b-8d40-678022fa3cac",
   "metadata": {},
   "outputs": [
    {
     "data": {
      "text/plain": [
       "914112"
      ]
     },
     "execution_count": 133,
     "metadata": {},
     "output_type": "execute_result"
    }
   ],
   "source": [
    "img.size # Total number of elements (pixels × channels)"
   ]
  },
  {
   "cell_type": "markdown",
   "id": "bbb745b2-6e3b-4745-b76e-f841e63271eb",
   "metadata": {},
   "source": [
    "### نوع داده پیکسل‌ها\n",
    "\n",
    "این دستور نوع داده‌ی پیکسل‌ها را در تصویر نشان می‌دهد. معمولاً `uint8` است که به معنی اعداد صحیح ۸ بیتی بدون علامت است."
   ]
  },
  {
   "cell_type": "code",
   "execution_count": 134,
   "id": "f437a5a4-796e-4fe7-8f95-32052c83fcc8",
   "metadata": {},
   "outputs": [
    {
     "data": {
      "text/plain": [
       "dtype('uint8')"
      ]
     },
     "execution_count": 134,
     "metadata": {},
     "output_type": "execute_result"
    }
   ],
   "source": [
    "img.dtype # Data type of pixel values (e.g., uint8)"
   ]
  }
 ],
 "metadata": {
  "kernelspec": {
   "display_name": "Python (.venv)",
   "language": "python",
   "name": ".venv"
  },
  "language_info": {
   "codemirror_mode": {
    "name": "ipython",
    "version": 3
   },
   "file_extension": ".py",
   "mimetype": "text/x-python",
   "name": "python",
   "nbconvert_exporter": "python",
   "pygments_lexer": "ipython3",
   "version": "3.12.6"
  }
 },
 "nbformat": 4,
 "nbformat_minor": 5
}
