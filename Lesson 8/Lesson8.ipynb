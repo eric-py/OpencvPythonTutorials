{
 "cells": [
  {
   "cell_type": "markdown",
   "id": "03151d98-74c5-4802-9f9a-2ae8d7ed4600",
   "metadata": {},
   "source": [
    "### وارد کردن کتابخانه‌ها\n",
    "در این بخش، کتابخانه‌های لازم برای پردازش تصویر و نمایش داده‌ها را وارد می‌کنیم:\n",
    "- `numpy` برای کار با آرایه‌های چندبعدی.\n",
    "- `cv2` برای پردازش تصویر و اعمال فیلترها.\n",
    "- `matplotlib.pyplot` برای نمایش تصاویر در یک گرید گرافیکی."
   ]
  },
  {
   "cell_type": "code",
   "execution_count": 42,
   "id": "641a3ade-0d10-4e8e-b6dd-0e06bc63f01b",
   "metadata": {},
   "outputs": [],
   "source": [
    "import numpy as np\n",
    "import cv2 as cv\n",
    "import matplotlib.pyplot as plt"
   ]
  },
  {
   "cell_type": "markdown",
   "id": "911dce8f-673b-4789-88e9-5aa5130f3cc0",
   "metadata": {},
   "source": [
    "### بارگذاری تصویر اصلی\n",
    "در این بخش، تصویر اصلی از مسیر مشخص شده بارگذاری می‌شود.  \n",
    "از تابع `cv.imread()` برای خواندن تصویر استفاده می‌کنیم، و تصویر به صورت یک آرایه چندبعدی ذخیره می‌شود تا بتوانیم پردازش‌های لازم را روی آن انجام دهیم."
   ]
  },
  {
   "cell_type": "code",
   "execution_count": 43,
   "id": "c04a7dba-972c-4a1d-b1dc-ac7a99ead358",
   "metadata": {},
   "outputs": [],
   "source": [
    "# Load the original image\n",
    "image = cv.imread('../src/corner.png')"
   ]
  },
  {
   "cell_type": "markdown",
   "id": "465802ad-5f3f-49b8-9d16-4f8455c1f6dc",
   "metadata": {},
   "source": [
    "### تبدیل تصویر به خاکستری\n",
    "در این بخش، تصویر رنگی اصلی به یک تصویر خاکستری تبدیل می‌شود.  \n",
    "تابع `cv.cvtColor()` فضای رنگی تصویر را به خاکستری تغییر می‌دهد، که موجب ساده‌تر شدن پردازش تصویر و کاهش حجم محاسبات می‌شود."
   ]
  },
  {
   "cell_type": "code",
   "execution_count": 44,
   "id": "d7504a3e-0aa7-4b32-a34d-60401b8ec914",
   "metadata": {},
   "outputs": [],
   "source": [
    "# Convert the original image to grayscale\n",
    "gray_image = cv.cvtColor(image, cv.COLOR_BGR2GRAY)"
   ]
  },
  {
   "cell_type": "markdown",
   "id": "58683944-faed-4892-a901-e3ed6c0678f1",
   "metadata": {},
   "source": [
    "### شناسایی گوشه‌ها با روش هریس\n",
    "در این بخش، الگوریتم شناسایی گوشه‌ی \"هریس\" برای یافتن گوشه‌ها در تصویر خاکستری اعمال می‌شود.  \n",
    "تابع `cv.cornerHarris()` گوشه‌های تصویر را شناسایی کرده و میزان شدت گوشه‌ای را در هر نقطه محاسبه می‌کند. پارامترهای `blockSize`، `ksize` و `k` مشخص‌کننده تنظیمات مختلف این الگوریتم هستند."
   ]
  },
  {
   "cell_type": "code",
   "execution_count": 45,
   "id": "8908996c-1edf-49ad-8772-619e2a4e7072",
   "metadata": {},
   "outputs": [],
   "source": [
    "# Detect corners in the grayscale image using the Harris corner detection method\n",
    "harris_corners = cv.cornerHarris(gray_image, blockSize=10, ksize=3, k=0.04)"
   ]
  },
  {
   "cell_type": "markdown",
   "id": "d913743d-35ba-4b3f-91bf-19fd2afbcebb",
   "metadata": {},
   "source": [
    "### بسط دادن گوشه‌ها\n",
    "در این بخش، گوشه‌های شناسایی‌شده را با استفاده از تابع `cv.dilate()` بسط می‌دهیم تا واضح‌تر و بهتر دیده شوند.  \n",
    "این عملیات باعث می‌شود که نقاط گوشه‌ای شناسایی‌شده در تصویر، برجسته‌تر به نظر برسند و در مرحله‌ی بعد بتوانیم به راحتی آن‌ها را روی تصویر اصلی نمایش دهیم."
   ]
  },
  {
   "cell_type": "code",
   "execution_count": 46,
   "id": "1914ae06-48a3-40b7-877a-cbd6b798a7ad",
   "metadata": {},
   "outputs": [],
   "source": [
    "# Dilate corner points to make them more visible\n",
    "dilated_corners = cv.dilate(harris_corners, None)"
   ]
  },
  {
   "cell_type": "markdown",
   "id": "4055926b-d0b2-431e-a3d3-a4c7d5e1b0e0",
   "metadata": {},
   "source": [
    "### برجسته‌سازی گوشه‌ها روی تصویر اصلی\n",
    "در این بخش، نقاط گوشه‌ای شناسایی شده روی تصویر اصلی برجسته می‌شوند.  \n",
    "در اینجا با استفاده از شرط `dilated_corners > 0.01 * dilated_corners.max()`، نقاطی که شدت گوشه‌ای بالایی دارند به رنگ قرمز (`[255, 0, 0]`) تغییر داده می‌شوند تا بهتر در تصویر قابل مشاهده باشند."
   ]
  },
  {
   "cell_type": "code",
   "execution_count": 47,
   "id": "f9bff6da-b0ea-416c-a8a2-2f6a65a39872",
   "metadata": {},
   "outputs": [],
   "source": [
    "# Highlight the detected corners on the original image (in red color)\n",
    "image[dilated_corners > 0.01 * dilated_corners.max()] = [255, 0, 0]"
   ]
  },
  {
   "cell_type": "markdown",
   "id": "4f0f2fcb-7f19-4dda-906e-43da9959525d",
   "metadata": {},
   "source": [
    "### نمایش تصویر نهایی\n",
    "در این بخش، تصویر نهایی که شامل گوشه‌های برجسته شده است نمایش داده می‌شود.  \n",
    "از `plt.imshow()` برای نمایش تصویر و از `plt.title()` برای افزودن عنوان به آن استفاده شده است. عنوان نمایش، \"Detected Corners\" است که نشان‌دهنده گوشه‌های شناسایی‌شده می‌باشد."
   ]
  },
  {
   "cell_type": "code",
   "execution_count": 48,
   "id": "701e556e-2e68-4402-9dbb-190c7941ce71",
   "metadata": {},
   "outputs": [
    {
     "data": {
      "image/png": "[encoded data removed]",
      "text/plain": [
       "<Figure size 640x480 with 1 Axes>"
      ]
     },
     "metadata": {},
     "output_type": "display_data"
    }
   ],
   "source": [
    "# Display the resulting image with highlighted corners\n",
    "plt.imshow(image)\n",
    "plt.title('Detected Corners')\n",
    "plt.show()"
   ]
  }
 ],
 "metadata": {
  "kernelspec": {
   "display_name": "Python (.venv)",
   "language": "python",
   "name": ".venv"
  },
  "language_info": {
   "codemirror_mode": {
    "name": "ipython",
    "version": 3
   },
   "file_extension": ".py",
   "mimetype": "text/x-python",
   "name": "python",
   "nbconvert_exporter": "python",
   "pygments_lexer": "ipython3",
   "version": "3.12.6"
  }
 },
 "nbformat": 4,
 "nbformat_minor": 5
}
