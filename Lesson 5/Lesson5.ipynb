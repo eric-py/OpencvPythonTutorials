{
 "cells": [
  {
   "cell_type": "markdown",
   "id": "d4c30c19-a11a-447b-8567-92e2e85ee885",
   "metadata": {},
   "source": [
    "# وارد کردن کتابخانه OpenCV\n",
    "\n",
    "کتابخانه‌ی OpenCV که برای پردازش تصویر استفاده می‌شود، را وارد میکنیم."
   ]
  },
  {
   "cell_type": "code",
   "execution_count": 1,
   "id": "e50951fa-1a8a-40bb-9677-d5d0131b01f0",
   "metadata": {},
   "outputs": [],
   "source": [
    "import cv2 as cv"
   ]
  },
  {
   "cell_type": "markdown",
   "id": "70bafd72-c786-4fa1-8e7f-43fc9c29815c",
   "metadata": {},
   "source": [
    "# خواندن تصویر و تبدیل به سیاه‌وسفید\n",
    "ابتدا تصویر MRI از مسیر مشخص‌شده `(../src/mri.jpeg)` بارگذاری می‌شود و سپس به تصویر سیاه‌وسفید `(Grayscale)` تبدیل می‌گردد. تصاویر سیاه‌وسفید پردازش ساده‌تری دارند و برای عملیات پردازش تصویر، به‌ویژه آستانه‌گذاری، مناسب‌تر هستند."
   ]
  },
  {
   "cell_type": "code",
   "execution_count": 2,
   "id": "c249237d-28e8-413a-b2d4-964cb004fc58",
   "metadata": {},
   "outputs": [],
   "source": [
    "source_image = cv.imread('../src/mri.jpeg') # Read the MRI image from source directory\n",
    "gray_image = cv.cvtColor(source_image, cv.COLOR_BGR2GRAY) # Convert the image to grayscale"
   ]
  },
  {
   "cell_type": "markdown",
   "id": "d08fc220-daee-44cc-8894-8a1ca0b9a940",
   "metadata": {},
   "source": [
    "# آستانه‌گذاری باینری ساده\n",
    "در اینجا، آستانه‌گذاری ساده باینری اعمال می‌شود. مقدار آستانه `(Threshold)` برابر با ۹۰ تعیین شده است. به این صورت که پیکسل‌های با شدت روشنایی بالاتر از ۹۰ به ۲۲۵ (سفید) و پیکسل‌های با شدت کمتر به ۰ (سیاه) تنظیم می‌شوند. این روش ساده‌ای برای استخراج بخش‌های خاص از تصویر است."
   ]
  },
  {
   "cell_type": "code",
   "execution_count": 3,
   "id": "4277e4d4-f1b4-4061-93c4-06996f6084e3",
   "metadata": {},
   "outputs": [],
   "source": [
    "# Apply basic binary thresholding with threshold value of 90\n",
    "_, binary_threshold = cv.threshold(gray_image, 90, 225, cv.THRESH_BINARY)"
   ]
  },
  {
   "cell_type": "markdown",
   "id": "97549a0b-c2f9-4329-aad3-b22b938cf582",
   "metadata": {},
   "source": [
    "# آستانه‌گذاری اُتسو (Otsu Thresholding)\n",
    "\n",
    "در اینجا، از روش آستانه‌گذاری اُتسو استفاده می‌شود. این روش به‌طور خودکار بهترین مقدار آستانه را برای تصویر تعیین می‌کند. آستانه‌گذاری اُتسو برای تصاویری که دارای دو سطح روشنایی متفاوت هستند مناسب است و نیاز به تعیین دستی مقدار آستانه ندارد."
   ]
  },
  {
   "cell_type": "code",
   "execution_count": 4,
   "id": "92ec5ea4-378f-48ab-b0df-b3ee3ecf609f",
   "metadata": {},
   "outputs": [],
   "source": [
    "# Apply Otsu's binary thresholding for optimal threshold value\n",
    "_, otsu_threshold = cv.threshold(gray_image, 0, 255, cv.THRESH_BINARY + cv.THRESH_OTSU)"
   ]
  },
  {
   "cell_type": "markdown",
   "id": "12908d32-dbba-41fc-93a9-8d61c59d372a",
   "metadata": {},
   "source": [
    "# آستانه‌گذاری تطبیقی گوسی (Adaptive Gaussian Thresholding)\n",
    "\n",
    "در اینجا، آستانه‌گذاری تطبیقی گوسی اعمال می‌شود. در این روش، مقدار آستانه برای هر ناحیه از تصویر به‌صورت جداگانه و بر اساس روشنایی محلی تعیین می‌گردد. این روش برای تصاویری که روشنایی یکنواخت ندارند (مثل تصاویری با سایه یا تغییرات نور) بسیار مؤثر است."
   ]
  },
  {
   "cell_type": "code",
   "execution_count": 5,
   "id": "1b82833d-6fc6-46df-a3fc-1c73c661d3c5",
   "metadata": {},
   "outputs": [],
   "source": [
    "# Apply adaptive Gaussian thresholding for better local threshold\n",
    "adaptive_threshold = cv.adaptiveThreshold(gray_image, 255, cv.ADAPTIVE_THRESH_GAUSSIAN_C, cv.THRESH_BINARY, 15, 1)"
   ]
  },
  {
   "cell_type": "markdown",
   "id": "909c7dcc-751a-4f2f-965c-2af4c649c280",
   "metadata": {},
   "source": [
    "# نمایش تصاویر و نتایج آستانه‌گذاری\n",
    "\n",
    "این بخش امکان مشاهده‌ی تاثیر هر روش آستانه‌گذاری را فراهم می‌کند."
   ]
  },
  {
   "cell_type": "code",
   "execution_count": null,
   "id": "be2c42f3-94f1-44a9-90d3-5e6346f766a1",
   "metadata": {},
   "outputs": [],
   "source": [
    "# Display results\n",
    "cv.imshow('Original', gray_image)\n",
    "cv.imshow('Binary Threshold', binary_threshold)\n",
    "cv.imshow('Otsu Threshold', otsu_threshold)\n",
    "cv.imshow('Adaptive Threshold', adaptive_threshold)\n",
    "cv.waitKey(0) # Wait for key press\n",
    "cv.destroyAllWindows() # Close all windows"
   ]
  }
 ],
 "metadata": {
  "kernelspec": {
   "display_name": "Python (.venv)",
   "language": "python",
   "name": ".venv"
  },
  "language_info": {
   "codemirror_mode": {
    "name": "ipython",
    "version": 3
   },
   "file_extension": ".py",
   "mimetype": "text/x-python",
   "name": "python",
   "nbconvert_exporter": "python",
   "pygments_lexer": "ipython3",
   "version": "3.12.6"
  }
 },
 "nbformat": 4,
 "nbformat_minor": 5
}
